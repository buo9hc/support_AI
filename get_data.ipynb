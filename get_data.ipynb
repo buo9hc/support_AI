{
 "cells": [
  {
   "cell_type": "code",
   "execution_count": 51,
   "id": "1ad9feb9-0a22-4fd0-8282-b6a3b759f756",
   "metadata": {
    "collapsed": true,
    "jupyter": {
     "outputs_hidden": true
    },
    "scrolled": true
   },
   "outputs": [
    {
     "name": "stdout",
     "output_type": "stream",
     "text": [
      "Defaulting to user installation because normal site-packages is not writeable\n",
      "Requirement already satisfied: pandas in /home/hoang/.local/lib/python3.10/site-packages (2.2.2)\n",
      "Requirement already satisfied: numpy>=1.22.4 in /home/hoang/.local/lib/python3.10/site-packages (from pandas) (2.1.1)\n",
      "Requirement already satisfied: python-dateutil>=2.8.2 in /home/hoang/.local/lib/python3.10/site-packages (from pandas) (2.9.0.post0)\n",
      "Requirement already satisfied: pytz>=2020.1 in /usr/lib/python3/dist-packages (from pandas) (2022.1)\n",
      "Requirement already satisfied: tzdata>=2022.7 in /home/hoang/.local/lib/python3.10/site-packages (from pandas) (2024.1)\n",
      "Requirement already satisfied: six>=1.5 in /usr/lib/python3/dist-packages (from python-dateutil>=2.8.2->pandas) (1.16.0)\n",
      "\n",
      "\u001b[1m[\u001b[0m\u001b[34;49mnotice\u001b[0m\u001b[1;39;49m]\u001b[0m\u001b[39;49m A new release of pip is available: \u001b[0m\u001b[31;49m24.0\u001b[0m\u001b[39;49m -> \u001b[0m\u001b[32;49m24.2\u001b[0m\n",
      "\u001b[1m[\u001b[0m\u001b[34;49mnotice\u001b[0m\u001b[1;39;49m]\u001b[0m\u001b[39;49m To update, run: \u001b[0m\u001b[32;49mpython3 -m pip install --upgrade pip\u001b[0m\n",
      "Defaulting to user installation because normal site-packages is not writeable\n",
      "Requirement already satisfied: pandas_datareader in /home/hoang/.local/lib/python3.10/site-packages (0.10.0)\n",
      "Requirement already satisfied: lxml in /home/hoang/.local/lib/python3.10/site-packages (from pandas_datareader) (5.3.0)\n",
      "Requirement already satisfied: pandas>=0.23 in /home/hoang/.local/lib/python3.10/site-packages (from pandas_datareader) (2.2.2)\n",
      "Requirement already satisfied: requests>=2.19.0 in /home/hoang/.local/lib/python3.10/site-packages (from pandas_datareader) (2.32.3)\n",
      "Requirement already satisfied: numpy>=1.22.4 in /home/hoang/.local/lib/python3.10/site-packages (from pandas>=0.23->pandas_datareader) (2.1.1)\n",
      "Requirement already satisfied: python-dateutil>=2.8.2 in /home/hoang/.local/lib/python3.10/site-packages (from pandas>=0.23->pandas_datareader) (2.9.0.post0)\n",
      "Requirement already satisfied: pytz>=2020.1 in /usr/lib/python3/dist-packages (from pandas>=0.23->pandas_datareader) (2022.1)\n",
      "Requirement already satisfied: tzdata>=2022.7 in /home/hoang/.local/lib/python3.10/site-packages (from pandas>=0.23->pandas_datareader) (2024.1)\n",
      "Requirement already satisfied: charset-normalizer<4,>=2 in /home/hoang/.local/lib/python3.10/site-packages (from requests>=2.19.0->pandas_datareader) (3.3.2)\n",
      "Requirement already satisfied: idna<4,>=2.5 in /usr/lib/python3/dist-packages (from requests>=2.19.0->pandas_datareader) (3.3)\n",
      "Requirement already satisfied: urllib3<3,>=1.21.1 in /usr/lib/python3/dist-packages (from requests>=2.19.0->pandas_datareader) (1.26.5)\n",
      "Requirement already satisfied: certifi>=2017.4.17 in /usr/lib/python3/dist-packages (from requests>=2.19.0->pandas_datareader) (2020.6.20)\n",
      "Requirement already satisfied: six>=1.5 in /usr/lib/python3/dist-packages (from python-dateutil>=2.8.2->pandas>=0.23->pandas_datareader) (1.16.0)\n",
      "\n",
      "\u001b[1m[\u001b[0m\u001b[34;49mnotice\u001b[0m\u001b[1;39;49m]\u001b[0m\u001b[39;49m A new release of pip is available: \u001b[0m\u001b[31;49m24.0\u001b[0m\u001b[39;49m -> \u001b[0m\u001b[32;49m24.2\u001b[0m\n",
      "\u001b[1m[\u001b[0m\u001b[34;49mnotice\u001b[0m\u001b[1;39;49m]\u001b[0m\u001b[39;49m To update, run: \u001b[0m\u001b[32;49mpython3 -m pip install --upgrade pip\u001b[0m\n",
      "Defaulting to user installation because normal site-packages is not writeable\n",
      "Requirement already satisfied: numpy in /home/hoang/.local/lib/python3.10/site-packages (2.1.1)\n",
      "\n",
      "\u001b[1m[\u001b[0m\u001b[34;49mnotice\u001b[0m\u001b[1;39;49m]\u001b[0m\u001b[39;49m A new release of pip is available: \u001b[0m\u001b[31;49m24.0\u001b[0m\u001b[39;49m -> \u001b[0m\u001b[32;49m24.2\u001b[0m\n",
      "\u001b[1m[\u001b[0m\u001b[34;49mnotice\u001b[0m\u001b[1;39;49m]\u001b[0m\u001b[39;49m To update, run: \u001b[0m\u001b[32;49mpython3 -m pip install --upgrade pip\u001b[0m\n"
     ]
    }
   ],
   "source": [
    "#Install necessary libraries\n",
    "#Only need to run this code at the first time\n",
    "!pip install pandas\n",
    "!pip install pandas_datareader\n",
    "!pip install numpy"
   ]
  },
  {
   "cell_type": "code",
   "execution_count": 52,
   "id": "b8aaaeb8-3f69-4b3b-89fa-988c33604d07",
   "metadata": {},
   "outputs": [],
   "source": [
    "#import necessary libraries\n",
    "import pandas as pd\n",
    "from pandas_datareader import wb\n",
    "import numpy as np"
   ]
  },
  {
   "cell_type": "code",
   "execution_count": 53,
   "id": "77ff967f-e40d-4552-9016-7f453a0eb2ba",
   "metadata": {},
   "outputs": [],
   "source": [
    "#create variables\n",
    "#Ex: https://data.worldbank.org/indicator/EN.ATM.CO2E.LF.KT?end=2016&start=1960&view=chart\n",
    "#co2_emissions variable was got from above link\n",
    "\n",
    "co2_emissions=\"EN.ATM.CO2E.LF.KT\"\n",
    "#countries=['US', 'CA', 'MX', 'VN']"
   ]
  },
  {
   "cell_type": "code",
   "execution_count": 54,
   "id": "e3d6fbdd-0ebf-4786-84ca-cfe8f5732672",
   "metadata": {
    "collapsed": true,
    "jupyter": {
     "outputs_hidden": true
    },
    "scrolled": true
   },
   "outputs": [
    {
     "name": "stdout",
     "output_type": "stream",
     "text": [
      "                    EN.ATM.CO2E.LF.KT\n",
      "country       year                   \n",
      "United States 2008        2242168.815\n",
      "              2007        2377235.426\n",
      "              2006        2394921.367\n",
      "              2005        2446413.381\n",
      "              2004        2428170.056\n",
      "              2003        2376461.689\n",
      "              2002        2304383.137\n",
      "              2001        2327815.267\n",
      "              2000        2318017.043\n",
      "              1999        2267434.445\n",
      "              1998        2236224.608\n",
      "              1997        2188656.284\n",
      "              1996        2134454.357\n",
      "              1995        2076156.391\n",
      "              1994        2076284.736\n",
      "              1993        2047187.091\n",
      "              1992        2006245.036\n",
      "              1991        1961294.950\n",
      "              1990        1993879.912\n",
      "              1989        2174523.666\n",
      "              1988        2181681.650\n",
      "              1987        2097883.366\n",
      "              1986        2046846.060\n",
      "              1985        1963084.446\n",
      "              1984        1959443.115\n",
      "              1983        1928189.274\n",
      "              1982        1930701.169\n",
      "              1981        2037201.850\n",
      "              1980        2218523.999\n",
      "              1979        2422302.856\n",
      "              1978        2494601.428\n",
      "              1977        2444719.227\n",
      "              1976        2301313.858\n",
      "              1975        2236565.639\n",
      "              1974        2301790.568\n",
      "              1973        2401448.627\n",
      "              1972        2271031.772\n",
      "              1971        2099023.803\n",
      "              1970        2039750.415\n",
      "              1969        1783086.084\n",
      "              1968        1690806.029\n",
      "              1967        1590495.244\n",
      "              1966        1530913.828\n",
      "              1965        1465890.584\n",
      "              1964        1395058.812\n",
      "              1963        1360368.992\n",
      "              1962        1335840.429\n",
      "              1961        1298378.357\n",
      "              1960        1282679.930\n"
     ]
    },
    {
     "name": "stderr",
     "output_type": "stream",
     "text": [
      "/tmp/ipykernel_1357910/3360731211.py:2: FutureWarning: errors='ignore' is deprecated and will raise in a future version. Use to_numeric without passing `errors` and catch exceptions explicitly instead\n",
      "  US_data = wb.download(indicator=co2_emissions, country=['US'], start=1960, end=2008)\n"
     ]
    }
   ],
   "source": [
    "#getdata from world bank via wb.download funtion and assign to the variable.\n",
    "US_data = wb.download(indicator=co2_emissions, country=['US'], start=1960, end=2008)\n",
    "print(US_data)"
   ]
  },
  {
   "cell_type": "code",
   "execution_count": 55,
   "id": "3abee981-576e-460b-a089-e1264ce61a24",
   "metadata": {
    "collapsed": true,
    "jupyter": {
     "outputs_hidden": true
    },
    "scrolled": true
   },
   "outputs": [
    {
     "name": "stdout",
     "output_type": "stream",
     "text": [
      "              EN.ATM.CO2E.LF.KT\n",
      "country year                   \n",
      "Canada  2008         258057.791\n",
      "        2007         265058.094\n",
      "        2006         263462.949\n",
      "        2005         252520.621\n",
      "        2004         253375.032\n",
      "        2003         244863.925\n",
      "        2002         224064.701\n",
      "        2001         231684.727\n",
      "        2000         231197.016\n",
      "        1999         227731.701\n",
      "        1998         224325.058\n",
      "        1997         215179.560\n",
      "        1996         207313.845\n",
      "        1995         205616.024\n",
      "        1994         201857.349\n",
      "        1993         202385.397\n",
      "        1992         197761.310\n",
      "        1991         192418.491\n",
      "        1990         205729.701\n",
      "        1989         206811.466\n",
      "        1988         211054.185\n",
      "        1987         202029.698\n",
      "        1986         186580.627\n",
      "        1985         186811.648\n",
      "        1984         192664.180\n",
      "        1983         193969.632\n",
      "        1982         208813.648\n",
      "        1981         228094.734\n",
      "        1980         241493.952\n",
      "        1979         244493.558\n",
      "        1978         234016.939\n",
      "        1977         233892.261\n",
      "        1976         233925.264\n",
      "        1975         242183.348\n",
      "        1974         249128.646\n",
      "        1973         238369.668\n",
      "        1972         233510.893\n",
      "        1971         220507.711\n",
      "        1970         211545.563\n",
      "        1969         181677.848\n",
      "        1968         179349.303\n",
      "        1967         171630.268\n",
      "        1966         155953.843\n",
      "        1965         151872.472\n",
      "        1964         143838.075\n",
      "        1963         134380.882\n",
      "        1962         126390.489\n",
      "        1961         118759.462\n",
      "        1960         115836.863\n"
     ]
    },
    {
     "name": "stderr",
     "output_type": "stream",
     "text": [
      "/tmp/ipykernel_1357910/1732073582.py:2: FutureWarning: errors='ignore' is deprecated and will raise in a future version. Use to_numeric without passing `errors` and catch exceptions explicitly instead\n",
      "  CA_data = wb.download(indicator=co2_emissions, country=['CA'], start=1960, end=2008)\n"
     ]
    }
   ],
   "source": [
    "#getdata from world bank via wb.download funtion and assign to the variable.\n",
    "CA_data = wb.download(indicator=co2_emissions, country=['CA'], start=1960, end=2008)\n",
    "print(CA_data)"
   ]
  },
  {
   "cell_type": "code",
   "execution_count": 56,
   "id": "8bcc85b5-bd8b-4461-8c36-db817c3d742e",
   "metadata": {
    "collapsed": true,
    "jupyter": {
     "outputs_hidden": true
    },
    "scrolled": true
   },
   "outputs": [
    {
     "name": "stdout",
     "output_type": "stream",
     "text": [
      "               EN.ATM.CO2E.LF.KT\n",
      "country  year                   \n",
      "Viet Nam 2008          40454.344\n",
      "         2007          37388.732\n",
      "         2006          32438.282\n",
      "         2005          33886.747\n",
      "         2004          33919.750\n",
      "         2003          29526.684\n",
      "         2002          28661.272\n",
      "         2001          25584.659\n",
      "         2000          23212.110\n",
      "         1999          20252.841\n",
      "         1998          19061.066\n",
      "         1997          18412.007\n",
      "         1996          15995.454\n",
      "         1995          13197.533\n",
      "         1994          13212.201\n",
      "         1993          12119.435\n",
      "         1992           8723.793\n",
      "         1991           8045.398\n",
      "         1990           9123.496\n",
      "         1989           7385.338\n",
      "         1988           7964.724\n",
      "         1987           6406.249\n",
      "         1986           5724.187\n",
      "         1985           5595.842\n",
      "         1984           5203.473\n",
      "         1983           4818.438\n",
      "         1982           4404.067\n",
      "         1981           4158.378\n",
      "         1980           3755.008\n",
      "         1979           3292.966\n",
      "         1978           2863.927\n",
      "         1977           2277.207\n",
      "         1976           2152.529\n",
      "         1975           9266.509\n",
      "         1974           9948.571\n",
      "         1973          17359.578\n",
      "         1972          17704.276\n",
      "         1971          17377.913\n",
      "         1970          20513.198\n",
      "         1969           1026.760\n",
      "         1968            982.756\n",
      "         1967            678.395\n",
      "         1966            432.706\n",
      "         1965            421.705\n",
      "         1964            396.036\n",
      "         1963            396.036\n",
      "         1962            414.371\n",
      "         1961            377.701\n",
      "         1960            352.032\n"
     ]
    },
    {
     "name": "stderr",
     "output_type": "stream",
     "text": [
      "/tmp/ipykernel_1357910/3624592425.py:2: FutureWarning: errors='ignore' is deprecated and will raise in a future version. Use to_numeric without passing `errors` and catch exceptions explicitly instead\n",
      "  VN_data = wb.download(indicator=co2_emissions, country=['VN'], start=1960, end=2008)\n"
     ]
    }
   ],
   "source": [
    "#getdata from world bank via wb.download funtion and assign to the variable.\n",
    "VN_data = wb.download(indicator=co2_emissions, country=['VN'], start=1960, end=2008)\n",
    "print(VN_data)"
   ]
  },
  {
   "cell_type": "code",
   "execution_count": 57,
   "id": "bf5afdf7-3723-4a43-9f39-3e8befbcfc70",
   "metadata": {
    "scrolled": true
   },
   "outputs": [
    {
     "name": "stdout",
     "output_type": "stream",
     "text": [
      "      US's CO2 emission  CA's CO2 emission  VN's CO2 emission\n",
      "year                                                         \n",
      "2008        2242168.815         258057.791          40454.344\n",
      "2007        2377235.426         265058.094          37388.732\n",
      "2006        2394921.367         263462.949          32438.282\n",
      "2005        2446413.381         252520.621          33886.747\n",
      "2004        2428170.056         253375.032          33919.750\n",
      "2003        2376461.689         244863.925          29526.684\n",
      "2002        2304383.137         224064.701          28661.272\n",
      "2001        2327815.267         231684.727          25584.659\n",
      "2000        2318017.043         231197.016          23212.110\n",
      "1999        2267434.445         227731.701          20252.841\n",
      "1998        2236224.608         224325.058          19061.066\n",
      "1997        2188656.284         215179.560          18412.007\n",
      "1996        2134454.357         207313.845          15995.454\n",
      "1995        2076156.391         205616.024          13197.533\n",
      "1994        2076284.736         201857.349          13212.201\n",
      "1993        2047187.091         202385.397          12119.435\n",
      "1992        2006245.036         197761.310           8723.793\n",
      "1991        1961294.950         192418.491           8045.398\n",
      "1990        1993879.912         205729.701           9123.496\n",
      "1989        2174523.666         206811.466           7385.338\n",
      "1988        2181681.650         211054.185           7964.724\n",
      "1987        2097883.366         202029.698           6406.249\n",
      "1986        2046846.060         186580.627           5724.187\n",
      "1985        1963084.446         186811.648           5595.842\n",
      "1984        1959443.115         192664.180           5203.473\n",
      "1983        1928189.274         193969.632           4818.438\n",
      "1982        1930701.169         208813.648           4404.067\n",
      "1981        2037201.850         228094.734           4158.378\n",
      "1980        2218523.999         241493.952           3755.008\n",
      "1979        2422302.856         244493.558           3292.966\n",
      "1978        2494601.428         234016.939           2863.927\n",
      "1977        2444719.227         233892.261           2277.207\n",
      "1976        2301313.858         233925.264           2152.529\n",
      "1975        2236565.639         242183.348           9266.509\n",
      "1974        2301790.568         249128.646           9948.571\n",
      "1973        2401448.627         238369.668          17359.578\n",
      "1972        2271031.772         233510.893          17704.276\n",
      "1971        2099023.803         220507.711          17377.913\n",
      "1970        2039750.415         211545.563          20513.198\n",
      "1969        1783086.084         181677.848           1026.760\n",
      "1968        1690806.029         179349.303            982.756\n",
      "1967        1590495.244         171630.268            678.395\n",
      "1966        1530913.828         155953.843            432.706\n",
      "1965        1465890.584         151872.472            421.705\n",
      "1964        1395058.812         143838.075            396.036\n",
      "1963        1360368.992         134380.882            396.036\n",
      "1962        1335840.429         126390.489            414.371\n",
      "1961        1298378.357         118759.462            377.701\n",
      "1960        1282679.930         115836.863            352.032\n"
     ]
    }
   ],
   "source": [
    "#Merge all data to one array\n",
    "data=US_data.merge(CA_data,on=\"year\").merge(VN_data,on=\"year\")\n",
    "data.columns=[\"US's CO2 emission\",\"CA's CO2 emission\",\"VN's CO2 emission\"]\n",
    "print(data)"
   ]
  },
  {
   "cell_type": "code",
   "execution_count": null,
   "id": "add20a81-bf95-44e1-80e0-52d72532f197",
   "metadata": {},
   "outputs": [],
   "source": []
  }
 ],
 "metadata": {
  "kernelspec": {
   "display_name": "Python 3 (ipykernel)",
   "language": "python",
   "name": "python3"
  },
  "language_info": {
   "codemirror_mode": {
    "name": "ipython",
    "version": 3
   },
   "file_extension": ".py",
   "mimetype": "text/x-python",
   "name": "python",
   "nbconvert_exporter": "python",
   "pygments_lexer": "ipython3",
   "version": "3.10.12"
  }
 },
 "nbformat": 4,
 "nbformat_minor": 5
}
